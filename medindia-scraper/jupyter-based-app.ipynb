{
 "cells": [
  {
   "cell_type": "code",
   "execution_count": 15,
   "metadata": {
    "collapsed": true
   },
   "outputs": [],
   "source": [
    "% matplotlib inline\n",
    "import numpy as np\n",
    "import pandas as pd\n",
    "from scipy import stats\n",
    "from matplotlib import pyplot as plt\n",
    "import seaborn as sns\n",
    "import nltk\n",
    "import re\n",
    "from ipywidgets import interact, interactive, fixed, HBox, widgets\n",
    "from collections import Counter\n",
    "import operator"
   ]
  },
  {
   "cell_type": "code",
   "execution_count": 16,
   "metadata": {
    "collapsed": false
   },
   "outputs": [
    {
     "data": {
      "text/html": [
       "<div>\n",
       "<table border=\"1\" class=\"dataframe\">\n",
       "  <thead>\n",
       "    <tr style=\"text-align: right;\">\n",
       "      <th></th>\n",
       "      <th>Drug</th>\n",
       "      <th>Indication</th>\n",
       "      <th>Condition</th>\n",
       "      <th>Effectiveness</th>\n",
       "      <th>EaseofUse</th>\n",
       "      <th>Satisfaction</th>\n",
       "      <th>Reviews</th>\n",
       "      <th>Form</th>\n",
       "      <th>PkgCount</th>\n",
       "      <th>EstimatedPrice</th>\n",
       "      <th>Allergies</th>\n",
       "    </tr>\n",
       "  </thead>\n",
       "  <tbody>\n",
       "    <tr>\n",
       "      <th>0</th>\n",
       "      <td>Deconex DMX oral</td>\n",
       "      <td>label</td>\n",
       "      <td>Cough</td>\n",
       "      <td>4.400000</td>\n",
       "      <td>4.600000</td>\n",
       "      <td>4.000000</td>\n",
       "      <td>5.0</td>\n",
       "      <td>tablet</td>\n",
       "      <td>30.0</td>\n",
       "      <td>26.9236</td>\n",
       "      <td>Acacia</td>\n",
       "    </tr>\n",
       "    <tr>\n",
       "      <th>1</th>\n",
       "      <td>Duraflu oral</td>\n",
       "      <td>label</td>\n",
       "      <td>Cough</td>\n",
       "      <td>4.666667</td>\n",
       "      <td>5.000000</td>\n",
       "      <td>4.500000</td>\n",
       "      <td>6.0</td>\n",
       "      <td>tablet</td>\n",
       "      <td>20.0</td>\n",
       "      <td>26.3628</td>\n",
       "      <td>Acacia</td>\n",
       "    </tr>\n",
       "    <tr>\n",
       "      <th>2</th>\n",
       "      <td>chlorpheniramine oral</td>\n",
       "      <td>offlabel</td>\n",
       "      <td>Cough</td>\n",
       "      <td>4.107143</td>\n",
       "      <td>4.678571</td>\n",
       "      <td>4.035714</td>\n",
       "      <td>28.0</td>\n",
       "      <td>tablet</td>\n",
       "      <td>60.0</td>\n",
       "      <td>21.2601</td>\n",
       "      <td>Acacia</td>\n",
       "    </tr>\n",
       "    <tr>\n",
       "      <th>3</th>\n",
       "      <td>Chlor-Trimeton oral</td>\n",
       "      <td>offlabel</td>\n",
       "      <td>Cough</td>\n",
       "      <td>4.625000</td>\n",
       "      <td>4.687500</td>\n",
       "      <td>4.500000</td>\n",
       "      <td>16.0</td>\n",
       "      <td>tablet</td>\n",
       "      <td>60.0</td>\n",
       "      <td>21.2601</td>\n",
       "      <td>Acacia</td>\n",
       "    </tr>\n",
       "    <tr>\n",
       "      <th>4</th>\n",
       "      <td>Deconex IR oral</td>\n",
       "      <td>label</td>\n",
       "      <td>Cough</td>\n",
       "      <td>3.857143</td>\n",
       "      <td>4.285714</td>\n",
       "      <td>3.714286</td>\n",
       "      <td>7.0</td>\n",
       "      <td>tablet</td>\n",
       "      <td>20.0</td>\n",
       "      <td>19.9769</td>\n",
       "      <td>Acacia</td>\n",
       "    </tr>\n",
       "  </tbody>\n",
       "</table>\n",
       "</div>"
      ],
      "text/plain": [
       "                    Drug Indication Condition  Effectiveness  EaseofUse  \\\n",
       "0       Deconex DMX oral      label     Cough       4.400000   4.600000   \n",
       "1           Duraflu oral      label     Cough       4.666667   5.000000   \n",
       "2  chlorpheniramine oral   offlabel     Cough       4.107143   4.678571   \n",
       "3    Chlor-Trimeton oral   offlabel     Cough       4.625000   4.687500   \n",
       "4        Deconex IR oral      label     Cough       3.857143   4.285714   \n",
       "\n",
       "   Satisfaction  Reviews    Form  PkgCount  EstimatedPrice Allergies  \n",
       "0      4.000000      5.0  tablet      30.0         26.9236    Acacia  \n",
       "1      4.500000      6.0  tablet      20.0         26.3628    Acacia  \n",
       "2      4.035714     28.0  tablet      60.0         21.2601    Acacia  \n",
       "3      4.500000     16.0  tablet      60.0         21.2601    Acacia  \n",
       "4      3.714286      7.0  tablet      20.0         19.9769    Acacia  "
      ]
     },
     "execution_count": 16,
     "metadata": {},
     "output_type": "execute_result"
    }
   ],
   "source": [
    "otc = pd.read_csv(\"C:\\\\Users\\\\Nikhil\\\\Documents\\\\DrugDatabase\\\\fake data.csv\")\n",
    "otc.head()"
   ]
  },
  {
   "cell_type": "code",
   "execution_count": null,
   "metadata": {
    "collapsed": true
   },
   "outputs": [],
   "source": []
  },
  {
   "cell_type": "code",
   "execution_count": null,
   "metadata": {
    "collapsed": true
   },
   "outputs": [],
   "source": []
  },
  {
   "cell_type": "code",
   "execution_count": null,
   "metadata": {
    "collapsed": true
   },
   "outputs": [],
   "source": []
  },
  {
   "cell_type": "code",
   "execution_count": null,
   "metadata": {
    "collapsed": true
   },
   "outputs": [],
   "source": []
  },
  {
   "cell_type": "code",
   "execution_count": null,
   "metadata": {
    "collapsed": true
   },
   "outputs": [],
   "source": []
  },
  {
   "cell_type": "code",
   "execution_count": null,
   "metadata": {
    "collapsed": true
   },
   "outputs": [],
   "source": []
  },
  {
   "cell_type": "code",
   "execution_count": null,
   "metadata": {
    "collapsed": true
   },
   "outputs": [],
   "source": []
  },
  {
   "cell_type": "code",
   "execution_count": null,
   "metadata": {
    "collapsed": true
   },
   "outputs": [],
   "source": []
  },
  {
   "cell_type": "code",
   "execution_count": null,
   "metadata": {
    "collapsed": false
   },
   "outputs": [],
   "source": []
  },
  {
   "cell_type": "code",
   "execution_count": 17,
   "metadata": {
    "collapsed": true
   },
   "outputs": [],
   "source": [
    "#['Use','HowtoUse','Precautions','AvoidUse','Allergies','Interactions','Sides''BrandName','GenName',] # columns removed\n",
    "def search_conditions(string, tg2, tg3, age, dd1, tg1, na, conds, form, count, revrange, currmed, health):\n",
    "    search = ['Indication','Condition','Drug',\n",
    "              'Effectiveness','EaseofUse','Satisfaction',\n",
    "              'Reviews','Form','PkgCount','EstimatedPrice']\n",
    "    index = []\n",
    "    a1index = []\n",
    "    df = otc.copy()\n",
    "    if na:\n",
    "        df = df.loc[(df.EaseofUse >= 0)&(df.EstimatedPrice >= 0)].reset_index(drop=True)\n",
    "    \n",
    "    if revrange:    \n",
    "        df = df.loc[(df.Reviews >= revrange)].reset_index(drop=True)\n",
    "    \n",
    "    if form != 'All':\n",
    "        df = df.loc[df.Form == form].reset_index(drop=True)\n",
    "        \n",
    "    if conds != '':\n",
    "        conds = '(' + ')|('.join(conds) + ')'\n",
    "    for i in range(len(df)):\n",
    "        if re.search(str(conds).lower(), \n",
    "                     df.Allergies[i].lower()\n",
    "                    ):\n",
    "            a1index += [i]\n",
    "        else:\n",
    "            continue\n",
    "    df = df[~df.index.isin(a1index)].reset_index(drop=True)\n",
    "                    \n",
    "    if tg2:\n",
    "        for i in range(len(df)):\n",
    "            if re.search('^'+string.lower()+'$', df.Condition[i].lower()):\n",
    "                index += [i]\n",
    "            else:\n",
    "                continue\n",
    "        return df[search].loc[index].sort_values(dd1, ascending=tg1).head(count).set_index('Drug')\n",
    "    \n",
    "    if tg3:\n",
    "        regex = '^(?=.*\\\\b'+'\\\\b)(?=.*\\\\b'.join(string.lower().split())+'\\\\b).*$'\n",
    "        for i in range(len(df)):\n",
    "            if re.search(regex, df.Condition[i].lower()):\n",
    "                index += [i]\n",
    "            else:\n",
    "                continue\n",
    "        return df[search].loc[index].sort_values(dd1, ascending=tg1).head(count).set_index('Drug')\n",
    "    \n",
    "    else:\n",
    "        for i in range(len(df)):\n",
    "            if re.search(string.lower(), df.Condition[i].lower()):\n",
    "                index += [i]\n",
    "            else:\n",
    "                continue\n",
    "        return df[search].loc[index].sort_values(dd1, ascending=tg1).head(count).set_index('Drug') \n",
    "    \n",
    "# search_conditions('cough',False,'False','','Effectiveness',False,True,'All',5) # for debugging only"
   ]
  },
  {
   "cell_type": "markdown",
   "metadata": {},
   "source": [
    "### Widget Creation"
   ]
  },
  {
   "cell_type": "code",
   "execution_count": 18,
   "metadata": {
    "collapsed": false
   },
   "outputs": [],
   "source": [
    "allergstr = ['Acacia','Acetic Acid','Acerola']\n",
    "#reg = re.compile(r\"[\\d+\\w+]{2,}\")\n",
    "#for i in range(len(otc.Allergies)):\n",
    "#    allergstr += nltk.word_tokenize(otc.Allergies[i])\n",
    "#allergstr = [x for x in list(set(allergstr)) if reg.match(x)]"
   ]
  },
  {
   "cell_type": "code",
   "execution_count": 19,
   "metadata": {
    "collapsed": false
   },
   "outputs": [],
   "source": [
    "tg1 = widgets.ToggleButton(\n",
    "    value=False,\n",
    "    description='Ascending/Descending',\n",
    "    disabled=False,\n",
    "    button_style='success', # 'success', 'info', 'warning', 'danger' or ''\n",
    "    tooltip='Description',\n",
    "    icon='check'\n",
    ")\n",
    "\n",
    "tg2 = widgets.ToggleButton(\n",
    "    value=False,\n",
    "    description='Match Exact',\n",
    "    disabled=False,\n",
    "    button_style='warning', # 'success', 'info', 'warning', 'danger' or ''\n",
    "    tooltip='Description',\n",
    "    icon='check'\n",
    ")\n",
    "\n",
    "tg3 = widgets.ToggleButton(\n",
    "    value=False,\n",
    "    description='Match Term',\n",
    "    disabled=False,\n",
    "    button_style='success', # 'success', 'info', 'warning', 'danger' or ''\n",
    "    tooltip='Description',\n",
    "    icon='check'\n",
    ")\n",
    "\n",
    "dd1 = widgets.Dropdown(\n",
    "    options={'Estimated Price': 'EstimatedPrice', 'Reviews': 'Reviews', 'Ease of Use': 'EaseofUse',\\\n",
    "            'Satisfaction': 'Satisfaction', 'Effectiveness': 'Effectiveness'},\n",
    "    value='Reviews',\n",
    "    description='Sort by:',\n",
    "    disabled=False,\n",
    "    button_style='info' # 'success', 'info', 'warning', 'danger' or ''\n",
    ")\n",
    "\n",
    "str1 = widgets.Text(\n",
    "    value='Cough',\n",
    "    placeholder='',\n",
    "    description='Search:',\n",
    "    disabled=False\n",
    ")\n",
    "\n",
    "int1 = widgets.IntSlider(\n",
    "    value = 5,\n",
    "    step = 1,\n",
    "    min = 1,\n",
    "    max = 10,\n",
    "    description = 'Show:'\n",
    ")\n",
    "\n",
    "age1 = widgets.IntText(\n",
    "    value = 35,\n",
    "    step = 1,\n",
    "    min = 1,\n",
    "    max = 100,\n",
    "    description = 'Age:'\n",
    ")\n",
    "\n",
    "na1 = widgets.ToggleButton(\n",
    "    value=True,\n",
    "    description='Remove NA',\n",
    "    disabled=False,\n",
    "    button_style='warning', # 'success', 'info', 'warning', 'danger' or ''\n",
    "    tooltip='Description',\n",
    "    icon='check'\n",
    ")\n",
    "\n",
    "for1 = widgets.Dropdown(\n",
    "    options=['All'] + otc.Form.unique().tolist(),\n",
    "    value='All',\n",
    "    description='Form:',\n",
    "    disabled=False,\n",
    "    button_style='info' # 'success', 'info', 'warning', 'danger' or ''\n",
    ")\n",
    "\n",
    "revrange = widgets.IntSlider(\n",
    "    value= 5,\n",
    "    min=0,\n",
    "    max= 50,\n",
    "    step=5,\n",
    "    description='Minimum Reviews:',\n",
    "    disabled=False,\n",
    "    continuous_update=False,\n",
    "    orientation='horizontal',\n",
    "    readout=True,\n",
    "    readout_format='i',\n",
    "    slider_color='white',\n",
    "    color='black'\n",
    ")\n",
    "\n",
    "a= widgets.SelectMultiple(\n",
    "    options=['NONE'] +sorted(allergstr),\n",
    "    value=['NONE'],\n",
    "    description='Allergies:',\n",
    "    disabled=False\n",
    ")\n",
    "\n",
    "currmed = widgets.Text(\n",
    "    value='',\n",
    "    placeholder='',\n",
    "    description='Current Meds:',\n",
    "    disabled=False\n",
    ")\n",
    "\n",
    "health = widgets.Text(\n",
    "    value='',\n",
    "    placeholder='',\n",
    "    description='Known Illnesses:',\n",
    "    disabled=False\n",
    ")"
   ]
  },
  {
   "cell_type": "markdown",
   "metadata": {},
   "source": [
    "### Drug Finder"
   ]
  },
  {
   "cell_type": "code",
   "execution_count": 20,
   "metadata": {
    "collapsed": false,
    "scrolled": true
   },
   "outputs": [
    {
     "data": {
      "text/html": [
       "<div>\n",
       "<table border=\"1\" class=\"dataframe\">\n",
       "  <thead>\n",
       "    <tr style=\"text-align: right;\">\n",
       "      <th></th>\n",
       "      <th>Indication</th>\n",
       "      <th>Condition</th>\n",
       "      <th>Effectiveness</th>\n",
       "      <th>EaseofUse</th>\n",
       "      <th>Satisfaction</th>\n",
       "      <th>Reviews</th>\n",
       "      <th>Form</th>\n",
       "      <th>PkgCount</th>\n",
       "      <th>EstimatedPrice</th>\n",
       "    </tr>\n",
       "    <tr>\n",
       "      <th>Drug</th>\n",
       "      <th></th>\n",
       "      <th></th>\n",
       "      <th></th>\n",
       "      <th></th>\n",
       "      <th></th>\n",
       "      <th></th>\n",
       "      <th></th>\n",
       "      <th></th>\n",
       "      <th></th>\n",
       "    </tr>\n",
       "  </thead>\n",
       "  <tbody>\n",
       "    <tr>\n",
       "      <th>fake drug 5</th>\n",
       "      <td>label</td>\n",
       "      <td>Cold Symptoms</td>\n",
       "      <td>4.0</td>\n",
       "      <td>4.5</td>\n",
       "      <td>3.784615</td>\n",
       "      <td>1.0</td>\n",
       "      <td>liquid</td>\n",
       "      <td>15.0</td>\n",
       "      <td>16.482972</td>\n",
       "    </tr>\n",
       "  </tbody>\n",
       "</table>\n",
       "</div>"
      ],
      "text/plain": [
       "            Indication      Condition  Effectiveness  EaseofUse  Satisfaction  \\\n",
       "Drug                                                                            \n",
       "fake drug 5      label  Cold Symptoms            4.0        4.5      3.784615   \n",
       "\n",
       "             Reviews    Form  PkgCount  EstimatedPrice  \n",
       "Drug                                                    \n",
       "fake drug 5      1.0  liquid      15.0       16.482972  "
      ]
     },
     "metadata": {},
     "output_type": "display_data"
    }
   ],
   "source": [
    "interactive(search_conditions,\n",
    "            string = str1,\n",
    "            tg1 = tg1,\n",
    "            tg3 = tg3,\n",
    "            conds = a,\n",
    "            age = age1,\n",
    "            dd1 = dd1,\n",
    "            na = na1,\n",
    "            tg2 = tg2,\n",
    "            form = for1,\n",
    "            count = int1,\n",
    "            revrange = revrange,\n",
    "            currmed = currmed,\n",
    "            health = health,\n",
    "            __manual=False)"
   ]
  },
  {
   "cell_type": "code",
   "execution_count": null,
   "metadata": {
    "collapsed": false
   },
   "outputs": [],
   "source": []
  },
  {
   "cell_type": "code",
   "execution_count": null,
   "metadata": {
    "collapsed": true
   },
   "outputs": [],
   "source": []
  },
  {
   "cell_type": "code",
   "execution_count": null,
   "metadata": {
    "collapsed": true
   },
   "outputs": [],
   "source": []
  },
  {
   "cell_type": "code",
   "execution_count": null,
   "metadata": {
    "collapsed": true
   },
   "outputs": [],
   "source": []
  },
  {
   "cell_type": "code",
   "execution_count": null,
   "metadata": {
    "collapsed": true
   },
   "outputs": [],
   "source": []
  },
  {
   "cell_type": "code",
   "execution_count": null,
   "metadata": {
    "collapsed": true
   },
   "outputs": [],
   "source": []
  }
 ],
 "metadata": {
  "anaconda-cloud": {},
  "kernelspec": {
   "display_name": "Python [conda root]",
   "language": "python",
   "name": "conda-root-py"
  },
  "language_info": {
   "codemirror_mode": {
    "name": "ipython",
    "version": 3
   },
   "file_extension": ".py",
   "mimetype": "text/x-python",
   "name": "python",
   "nbconvert_exporter": "python",
   "pygments_lexer": "ipython3",
   "version": "3.5.2"
  },
  "widgets": {
   "state": {
    "f7020d40d7894d69851cb63a6edb6f73": {
     "views": [
      {
       "cell_index": 17
      }
     ]
    }
   },
   "version": "1.2.0"
  }
 },
 "nbformat": 4,
 "nbformat_minor": 1
}
